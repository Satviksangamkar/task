{
 "cells": [
  {
   "cell_type": "markdown",
   "id": "be6a66ec",
   "metadata": {},
   "source": [
    "# Customer Insights in Fashion Retail using NLP\n",
    "### Objective\n",
    "This notebook performs topic modeling and sentiment analysis on customer reviews to help a retail brand gain insights into customer perceptions and preferences.\n",
    "\n",
    "#### Goals:\n",
    "- Use Latent Dirichlet Allocation (LDA) for topic modeling\n",
    "- Apply Aspect-Based Sentiment Analysis (ABSA) for granular insights on high-priority topics\n"
   ]
  },
  {
   "cell_type": "code",
   "execution_count": 1,
   "id": "82a2633b",
   "metadata": {},
   "outputs": [
    {
     "name": "stderr",
     "output_type": "stream",
     "text": [
      "[nltk_data] Downloading package vader_lexicon to\n",
      "[nltk_data]     C:\\Users\\Satvik\\AppData\\Roaming\\nltk_data...\n",
      "[nltk_data]   Package vader_lexicon is already up-to-date!\n"
     ]
    }
   ],
   "source": [
    "# Import necessary libraries\n",
    "import pandas as pd\n",
    "import numpy as np\n",
    "import re\n",
    "import spacy\n",
    "from sklearn.decomposition import LatentDirichletAllocation\n",
    "from sklearn.feature_extraction.text import CountVectorizer\n",
    "from sklearn.metrics import pairwise_distances\n",
    "import matplotlib.pyplot as plt\n",
    "import seaborn as sns\n",
    "from textblob import TextBlob\n",
    "import nltk\n",
    "nltk.download('vader_lexicon')\n",
    "from nltk.sentiment import SentimentIntensityAnalyzer\n",
    "sia = SentimentIntensityAnalyzer()\n",
    "\n",
    "# Load SpaCy model for lemmatization\n",
    "nlp = spacy.load('en_core_web_sm')\n"
   ]
  },
  {
   "cell_type": "markdown",
   "id": "5b917e1d",
   "metadata": {},
   "source": [
    "## 1. Load and Preprocess the Dataset\n",
    "This step loads the dataset and preprocesses the review text with tokenization, stopword removal, and lemmatization.\n"
   ]
  },
  {
   "cell_type": "code",
   "execution_count": 2,
   "id": "f0ba7513",
   "metadata": {},
   "outputs": [
    {
     "data": {
      "text/html": [
       "<div>\n",
       "<style scoped>\n",
       "    .dataframe tbody tr th:only-of-type {\n",
       "        vertical-align: middle;\n",
       "    }\n",
       "\n",
       "    .dataframe tbody tr th {\n",
       "        vertical-align: top;\n",
       "    }\n",
       "\n",
       "    .dataframe thead th {\n",
       "        text-align: right;\n",
       "    }\n",
       "</style>\n",
       "<table border=\"1\" class=\"dataframe\">\n",
       "  <thead>\n",
       "    <tr style=\"text-align: right;\">\n",
       "      <th></th>\n",
       "      <th>Unnamed: 0</th>\n",
       "      <th>Clothing ID</th>\n",
       "      <th>Age</th>\n",
       "      <th>Title</th>\n",
       "      <th>Review Text</th>\n",
       "      <th>Rating</th>\n",
       "      <th>Recommended IND</th>\n",
       "      <th>Positive Feedback Count</th>\n",
       "      <th>Division Name</th>\n",
       "      <th>Department Name</th>\n",
       "      <th>Class Name</th>\n",
       "      <th>Cleaned_Review</th>\n",
       "    </tr>\n",
       "  </thead>\n",
       "  <tbody>\n",
       "    <tr>\n",
       "      <th>0</th>\n",
       "      <td>0</td>\n",
       "      <td>767</td>\n",
       "      <td>33</td>\n",
       "      <td>NaN</td>\n",
       "      <td>Absolutely wonderful - silky and sexy and comf...</td>\n",
       "      <td>4</td>\n",
       "      <td>1</td>\n",
       "      <td>0</td>\n",
       "      <td>Initmates</td>\n",
       "      <td>Intimate</td>\n",
       "      <td>Intimates</td>\n",
       "      <td>absolutely wonderful silky sexy comfortable</td>\n",
       "    </tr>\n",
       "    <tr>\n",
       "      <th>1</th>\n",
       "      <td>1</td>\n",
       "      <td>1080</td>\n",
       "      <td>34</td>\n",
       "      <td>NaN</td>\n",
       "      <td>Love this dress!  it's sooo pretty.  i happene...</td>\n",
       "      <td>5</td>\n",
       "      <td>1</td>\n",
       "      <td>4</td>\n",
       "      <td>General</td>\n",
       "      <td>Dresses</td>\n",
       "      <td>Dresses</td>\n",
       "      <td>love dress   sooo pretty   happen find store g...</td>\n",
       "    </tr>\n",
       "    <tr>\n",
       "      <th>2</th>\n",
       "      <td>2</td>\n",
       "      <td>1077</td>\n",
       "      <td>60</td>\n",
       "      <td>Some major design flaws</td>\n",
       "      <td>I had such high hopes for this dress and reall...</td>\n",
       "      <td>3</td>\n",
       "      <td>0</td>\n",
       "      <td>0</td>\n",
       "      <td>General</td>\n",
       "      <td>Dresses</td>\n",
       "      <td>Dresses</td>\n",
       "      <td>high hope dress want work initially order peti...</td>\n",
       "    </tr>\n",
       "    <tr>\n",
       "      <th>3</th>\n",
       "      <td>3</td>\n",
       "      <td>1049</td>\n",
       "      <td>50</td>\n",
       "      <td>My favorite buy!</td>\n",
       "      <td>I love, love, love this jumpsuit. it's fun, fl...</td>\n",
       "      <td>5</td>\n",
       "      <td>1</td>\n",
       "      <td>0</td>\n",
       "      <td>General Petite</td>\n",
       "      <td>Bottoms</td>\n",
       "      <td>Pants</td>\n",
       "      <td>love love love jumpsuit fun flirty fabulous ti...</td>\n",
       "    </tr>\n",
       "    <tr>\n",
       "      <th>4</th>\n",
       "      <td>4</td>\n",
       "      <td>847</td>\n",
       "      <td>47</td>\n",
       "      <td>Flattering shirt</td>\n",
       "      <td>This shirt is very flattering to all due to th...</td>\n",
       "      <td>5</td>\n",
       "      <td>1</td>\n",
       "      <td>6</td>\n",
       "      <td>General</td>\n",
       "      <td>Tops</td>\n",
       "      <td>Blouses</td>\n",
       "      <td>shirt flattering adjustable tie perfect length...</td>\n",
       "    </tr>\n",
       "  </tbody>\n",
       "</table>\n",
       "</div>"
      ],
      "text/plain": [
       "   Unnamed: 0  Clothing ID  Age                    Title  \\\n",
       "0           0          767   33                      NaN   \n",
       "1           1         1080   34                      NaN   \n",
       "2           2         1077   60  Some major design flaws   \n",
       "3           3         1049   50         My favorite buy!   \n",
       "4           4          847   47         Flattering shirt   \n",
       "\n",
       "                                         Review Text  Rating  Recommended IND  \\\n",
       "0  Absolutely wonderful - silky and sexy and comf...       4                1   \n",
       "1  Love this dress!  it's sooo pretty.  i happene...       5                1   \n",
       "2  I had such high hopes for this dress and reall...       3                0   \n",
       "3  I love, love, love this jumpsuit. it's fun, fl...       5                1   \n",
       "4  This shirt is very flattering to all due to th...       5                1   \n",
       "\n",
       "   Positive Feedback Count   Division Name Department Name Class Name  \\\n",
       "0                        0       Initmates        Intimate  Intimates   \n",
       "1                        4         General         Dresses    Dresses   \n",
       "2                        0         General         Dresses    Dresses   \n",
       "3                        0  General Petite         Bottoms      Pants   \n",
       "4                        6         General            Tops    Blouses   \n",
       "\n",
       "                                      Cleaned_Review  \n",
       "0        absolutely wonderful silky sexy comfortable  \n",
       "1  love dress   sooo pretty   happen find store g...  \n",
       "2  high hope dress want work initially order peti...  \n",
       "3  love love love jumpsuit fun flirty fabulous ti...  \n",
       "4  shirt flattering adjustable tie perfect length...  "
      ]
     },
     "execution_count": 2,
     "metadata": {},
     "output_type": "execute_result"
    }
   ],
   "source": [
    "# Load the dataset\n",
    "df = pd.read_csv('Womens Clothing E-Commerce Reviews.csv')\n",
    "df = df.dropna(subset=['Review Text'])\n",
    "\n",
    "# Define a SpaCy-based lemmatization function\n",
    "def spacy_lemmatize(text):\n",
    "    doc = nlp(text.lower())\n",
    "    lemmatized = [token.lemma_ for token in doc if not token.is_stop and not token.is_punct]\n",
    "    return ' '.join(lemmatized)\n",
    "\n",
    "# Apply preprocessing to 'Review Text'\n",
    "df['Cleaned_Review'] = df['Review Text'].apply(spacy_lemmatize)\n",
    "df.head()"
   ]
  },
  {
   "cell_type": "markdown",
   "id": "7f7ef014",
   "metadata": {},
   "source": [
    "## 2. Vectorization\n",
    "Convert the preprocessed text data into a document-term matrix for LDA topic modeling.\n"
   ]
  },
  {
   "cell_type": "code",
   "execution_count": 3,
   "id": "e4cdb598",
   "metadata": {},
   "outputs": [
    {
     "name": "stdout",
     "output_type": "stream",
     "text": [
      "Document-Term Matrix Shape: (22641, 2565)\n"
     ]
    }
   ],
   "source": [
    "# Initialize CountVectorizer\n",
    "vectorizer = CountVectorizer(max_df=0.95, min_df=10, stop_words='english')\n",
    "dtm = vectorizer.fit_transform(df['Cleaned_Review'])\n",
    "feature_names = vectorizer.get_feature_names_out()\n",
    "print(f\"Document-Term Matrix Shape: {dtm.shape}\")"
   ]
  },
  {
   "cell_type": "markdown",
   "id": "36ed310d",
   "metadata": {},
   "source": [
    "## 3. Building and Training the LDA Model\n",
    "Run LDA with different topic numbers and evaluate coherence to find the optimal topic number.\n"
   ]
  },
  {
   "cell_type": "code",
   "execution_count": 4,
   "id": "cafe0549",
   "metadata": {},
   "outputs": [
    {
     "name": "stdout",
     "output_type": "stream",
     "text": [
      "Number of Topics: 5, Coherence Score: 0.2130\n",
      "Number of Topics: 10, Coherence Score: 0.1737\n",
      "Number of Topics: 15, Coherence Score: 0.1573\n",
      "Number of Topics: 20, Coherence Score: 0.1532\n"
     ]
    },
    {
     "data": {
      "image/png": "[encoded data removed]",
      "text/plain": [
       "<Figure size 1000x600 with 1 Axes>"
      ]
     },
     "metadata": {},
     "output_type": "display_data"
    },
    {
     "name": "stdout",
     "output_type": "stream",
     "text": [
      "Best Coherence Score: 0.21300168560633553\n"
     ]
    }
   ],
   "source": [
    "# Define grid search function for optimal topic count\n",
    "def grid_search_lda(dtm, feature_names, topic_range, max_iter=20):\n",
    "    best_model = None\n",
    "    best_coherence = -1\n",
    "    coherence_scores = []\n",
    "    \n",
    "    for n_topics in topic_range:\n",
    "        lda_model = LatentDirichletAllocation(\n",
    "            n_components=n_topics,\n",
    "            random_state=42,\n",
    "            max_iter=max_iter,\n",
    "            learning_method='batch'\n",
    "        )\n",
    "        lda_model.fit(dtm)\n",
    "        \n",
    "        # Calculate coherence for the model\n",
    "        coherence = calculate_coherence(lda_model, dtm, feature_names, top_n=10)\n",
    "        coherence_scores.append(coherence)\n",
    "        print(f\"Number of Topics: {n_topics}, Coherence Score: {coherence:.4f}\")\n",
    "        \n",
    "        if coherence > best_coherence:\n",
    "            best_coherence = coherence\n",
    "            best_model = lda_model\n",
    "    \n",
    "    # Plot coherence scores\n",
    "    plt.figure(figsize=(10, 6))\n",
    "    plt.plot(topic_range, coherence_scores, marker='o', linestyle='--', color='blue')\n",
    "    plt.xlabel(\"Number of Topics\")\n",
    "    plt.ylabel(\"Coherence Score\")\n",
    "    plt.title(\"Coherence Scores for Different Numbers of Topics\")\n",
    "    plt.show()\n",
    "    \n",
    "    return best_model, best_coherence\n",
    "\n",
    "# Calculate coherence based on cosine similarity for the top words\n",
    "def calculate_coherence(model, dtm, feature_names, top_n=10):\n",
    "    coherence_scores = []\n",
    "    for topic_idx, topic in enumerate(model.components_):\n",
    "        top_features_ind = topic.argsort()[:-top_n - 1:-1]\n",
    "        top_words_vectors = dtm[:, top_features_ind].toarray().T\n",
    "        distances = pairwise_distances(top_words_vectors, metric='cosine')\n",
    "        coherence = 1 - distances[np.triu_indices(top_n, 1)].mean()\n",
    "        coherence_scores.append(coherence)\n",
    "    avg_coherence = np.mean(coherence_scores)\n",
    "    return avg_coherence\n",
    "\n",
    "# Define the range for number of topics and perform grid search\n",
    "topic_range = range(5, 25, 5)\n",
    "best_lda_model, best_coherence = grid_search_lda(dtm, feature_names, topic_range)\n",
    "print(f\"Best Coherence Score: {best_coherence}\")"
   ]
  },
  {
   "cell_type": "markdown",
   "id": "4108e9a6",
   "metadata": {},
   "source": [
    "## 4. Aspect-Based Sentiment Analysis\n",
    "Identify aspects (like fit, color, material) in reviews and perform sentiment analysis on each aspect within high-priority topics.\n"
   ]
  },
  {
   "cell_type": "code",
   "execution_count": 5,
   "id": "9376bce4",
   "metadata": {},
   "outputs": [
    {
     "name": "stdout",
     "output_type": "stream",
     "text": [
      "                                         Review Text  \\\n",
      "0  Absolutely wonderful - silky and sexy and comf...   \n",
      "1  Love this dress!  it's sooo pretty.  i happene...   \n",
      "2  I had such high hopes for this dress and reall...   \n",
      "3  I love, love, love this jumpsuit. it's fun, fl...   \n",
      "4  This shirt is very flattering to all due to th...   \n",
      "\n",
      "                                   Aspect_Sentiments  \n",
      "0  {'fit': 0.8932, 'color': 0, 'material': 0, 'de...  \n",
      "1  {'fit': 0, 'color': 0, 'material': 0, 'design'...  \n",
      "2  {'fit': 0.14175, 'color': 0, 'material': 0, 'd...  \n",
      "3  {'fit': 0, 'color': 0, 'material': 0, 'design'...  \n",
      "4  {'fit': 0, 'color': 0, 'material': 0, 'design'...  \n"
     ]
    }
   ],
   "source": [
    "# Define aspect terms\n",
    "aspect_terms = {\n",
    "    \"fit\": [\"fit\", \"size\", \"comfortable\"],\n",
    "    \"color\": [\"color\", \"shade\", \"tone\"],\n",
    "    \"material\": [\"material\", \"fabric\", \"texture\"],\n",
    "    \"design\": [\"design\", \"style\", \"pattern\"]\n",
    "}\n",
    "\n",
    "# Aspect-Based Sentiment Analysis\n",
    "def aspect_based_sentiment_analysis(review_text, aspect_terms):\n",
    "    aspect_sentiments = {aspect: [] for aspect in aspect_terms.keys()}\n",
    "    sentences = nltk.sent_tokenize(review_text)\n",
    "    \n",
    "    for sentence in sentences:\n",
    "        for aspect, keywords in aspect_terms.items():\n",
    "            if any(keyword in sentence for keyword in keywords):\n",
    "                sentiment_score = sia.polarity_scores(sentence)['compound']\n",
    "                aspect_sentiments[aspect].append(sentiment_score)\n",
    "    \n",
    "    averaged_sentiments = {aspect: np.mean(scores) if scores else 0 \n",
    "                           for aspect, scores in aspect_sentiments.items()}\n",
    "    return averaged_sentiments\n",
    "\n",
    "df['Aspect_Sentiments'] = df['Review Text'].apply(lambda x: aspect_based_sentiment_analysis(x, aspect_terms))\n",
    "print(df[['Review Text', 'Aspect_Sentiments']].head())"
   ]
  },
  {
   "cell_type": "markdown",
   "id": "3a340654",
   "metadata": {},
   "source": [
    "## 5. Visualization and Analysis\n",
    "Visualize sentiment distribution for each aspect.\n"
   ]
  },
  {
   "cell_type": "code",
   "execution_count": 6,
   "id": "1d416689",
   "metadata": {},
   "outputs": [
    {
     "name": "stderr",
     "output_type": "stream",
     "text": [
      "C:\\Users\\Satvik\\AppData\\Local\\Temp\\ipykernel_26828\\2986373579.py:8: FutureWarning: \n",
      "\n",
      "Passing `palette` without assigning `hue` is deprecated and will be removed in v0.14.0. Assign the `x` variable to `hue` and set `legend=False` for the same effect.\n",
      "\n",
      "  sns.barplot(x=aspect_averages.index, y=aspect_averages.values, palette=\"coolwarm\")\n"
     ]
    },
    {
     "data": {
      "image/png": "[encoded data removed]",
      "text/plain": [
       "<Figure size 1000x600 with 1 Axes>"
      ]
     },
     "metadata": {},
     "output_type": "display_data"
    }
   ],
   "source": [
    "# Convert aspect sentiments to separate columns and visualize\n",
    "aspect_sentiments_df = pd.json_normalize(df['Aspect_Sentiments'])\n",
    "df = pd.concat([df, aspect_sentiments_df], axis=1)\n",
    "\n",
    "# Calculate average sentiment per aspect and plot\n",
    "aspect_averages = df[aspect_sentiments_df.columns].mean()\n",
    "plt.figure(figsize=(10, 6))\n",
    "sns.barplot(x=aspect_averages.index, y=aspect_averages.values, palette=\"coolwarm\")\n",
    "plt.xlabel(\"Aspect\")\n",
    "plt.ylabel(\"Average Sentiment Score\")\n",
    "plt.title(\"Average Sentiment Score by Aspect\")\n",
    "plt.show()"
   ]
  }
 ],
 "metadata": {
  "kernelspec": {
   "display_name": "taskinternship",
   "language": "python",
   "name": "python3"
  },
  "language_info": {
   "codemirror_mode": {
    "name": "ipython",
    "version": 3
   },
   "file_extension": ".py",
   "mimetype": "text/x-python",
   "name": "python",
   "nbconvert_exporter": "python",
   "pygments_lexer": "ipython3",
   "version": "3.12.4"
  }
 },
 "nbformat": 4,
 "nbformat_minor": 5
}
